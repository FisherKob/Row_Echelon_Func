{
 "cells": [
  {
   "cell_type": "markdown",
   "metadata": {},
   "source": [
    "#### In this module, I will write a function that calculates row echelon form of 4*4 matrix and determines if the matrix is singluar or non-singluar.\n",
    "\n",
    "#### Next, I generalize to n by n matrix."
   ]
  },
  {
   "cell_type": "code",
   "execution_count": 13,
   "metadata": {},
   "outputs": [],
   "source": [
    "import numpy as np\n",
    "\n",
    "def IsSingular(A):\n",
    "    B=np.array(A,dtype=np.float_)\n",
    "    try:\n",
    "        FixFirstRow(B)\n",
    "        FixSecondRow(B)\n",
    "        FixThirdRow(B)\n",
    "        FixFouthRow(B)\n",
    "        return False\n",
    "    except MatrixIsSingular:\n",
    "        return True\n",
    "    \n",
    "class MatrixisSingluar(Exception): pass\n",
    "\n",
    "def FixFirstRow(A):\n",
    "    if A[0,0]==0:\n",
    "        A[0]=A[1]+A[0]\n",
    "    if A[0,0]==0:\n",
    "        A[0]=A[2]+A[0]\n",
    "    if A[0,0]==0:\n",
    "        A[0]=A[3]+A[0]\n",
    "    if A[0,0]==0:\n",
    "        raise MatrixisSingluar()\n",
    "    A[0]=A[0]/A[0,0]\n",
    "    return A\n",
    "\n",
    "def FixSecondRow(A):\n",
    "    A[1]=A[1]-A[1,0]*A[0]\n",
    "    if A[1,1]==0:\n",
    "        A[1]=A[1]+A[2]\n",
    "        A[1]=A[1]+A[3]\n",
    "        A[1]=A[1]-A[1,0]*A[0]\n",
    "    if A[1,1]==0:\n",
    "        raise MatrixisSingluar()\n",
    "    A[1]=A[1]/A[1,1]\n",
    "    return A\n",
    "\n",
    "def FixThirdRow(A):\n",
    "    A[2]=A[2]-A[2,0]*A[0]\n",
    "    A[2]=A[2]-A[2,1]*A[1]\n",
    "    if A[2,2]==0:\n",
    "        A[2]=A[2]+A[3]\n",
    "        A[2]=A[2]-A[2,0]*A[0]\n",
    "        A[2]=A[2]-A[2,1]*A[1]\n",
    "    if A[2,2]==0:\n",
    "        raise MatrixisSingular()\n",
    "    A[2]=A[2]/A[2,2]\n",
    "    return A\n",
    "def FixFouthRow(A):\n",
    "    A[3]=A[3]-A[3,0]*A[0]\n",
    "    A[3]=A[3]-A[3,1]*A[1]\n",
    "    A[3]=A[3]-A[3,2]*A[2]\n",
    "    \n",
    "    if A[3,3]==0:\n",
    "        raise MatrixisSingular()\n",
    "    A[3]=A[3]/A[3,3]\n",
    "    return A\n",
    "\n",
    "\n",
    "        \n",
    "                      \n",
    "                      \n",
    "                      \n",
    "                      \n",
    "                      "
   ]
  },
  {
   "cell_type": "code",
   "execution_count": 7,
   "metadata": {},
   "outputs": [
    {
     "data": {
      "text/plain": [
       "array([[1, 2, 3, 4],\n",
       "       [2, 1, 4, 1],\n",
       "       [2, 4, 1, 2],\n",
       "       [2, 3, 1, 6]])"
      ]
     },
     "execution_count": 7,
     "metadata": {},
     "output_type": "execute_result"
    }
   ],
   "source": [
    "A=np.array([[1,2,3,4],[2,1,4,1],[2,4,1,2],[2,3,1,6]])\n",
    "A"
   ]
  },
  {
   "cell_type": "code",
   "execution_count": 8,
   "metadata": {},
   "outputs": [
    {
     "data": {
      "text/plain": [
       "False"
      ]
     },
     "execution_count": 8,
     "metadata": {},
     "output_type": "execute_result"
    }
   ],
   "source": [
    "IsSingular(A)"
   ]
  },
  {
   "cell_type": "code",
   "execution_count": 9,
   "metadata": {},
   "outputs": [
    {
     "data": {
      "text/plain": [
       "array([[1, 2, 3, 4],\n",
       "       [2, 1, 4, 1],\n",
       "       [2, 4, 1, 2],\n",
       "       [2, 3, 1, 6]])"
      ]
     },
     "execution_count": 9,
     "metadata": {},
     "output_type": "execute_result"
    }
   ],
   "source": [
    "FixFirstRow(A)"
   ]
  },
  {
   "cell_type": "code",
   "execution_count": 10,
   "metadata": {},
   "outputs": [
    {
     "data": {
      "text/plain": [
       "array([[1, 2, 3, 4],\n",
       "       [0, 1, 0, 2],\n",
       "       [2, 4, 1, 2],\n",
       "       [2, 3, 1, 6]])"
      ]
     },
     "execution_count": 10,
     "metadata": {},
     "output_type": "execute_result"
    }
   ],
   "source": [
    "FixSecondRow(A)"
   ]
  },
  {
   "cell_type": "code",
   "execution_count": 11,
   "metadata": {},
   "outputs": [
    {
     "data": {
      "text/plain": [
       "array([[1, 2, 3, 4],\n",
       "       [0, 1, 0, 2],\n",
       "       [0, 0, 1, 1],\n",
       "       [2, 3, 1, 6]])"
      ]
     },
     "execution_count": 11,
     "metadata": {},
     "output_type": "execute_result"
    }
   ],
   "source": [
    "FixThirdRow(A)"
   ]
  },
  {
   "cell_type": "code",
   "execution_count": 12,
   "metadata": {},
   "outputs": [
    {
     "data": {
      "text/plain": [
       "array([[1, 2, 3, 4],\n",
       "       [0, 1, 0, 2],\n",
       "       [0, 0, 1, 1],\n",
       "       [0, 0, 0, 1]])"
      ]
     },
     "execution_count": 12,
     "metadata": {},
     "output_type": "execute_result"
    }
   ],
   "source": [
    "FixFouthRow(A)"
   ]
  },
  {
   "cell_type": "markdown",
   "metadata": {},
   "source": [
    "#### Generalized to n*n matrix"
   ]
  },
  {
   "cell_type": "code",
   "execution_count": 14,
   "metadata": {},
   "outputs": [],
   "source": [
    "def gisSingular(A):\n",
    "    B=np.array(A,dtype=np.float_)\n",
    "    n = B.shape[0]\n",
    "    for j in range(n):\n",
    "        for k in range(j):\n",
    "            B[j] = B[j]-B[j,k]*B[k]\n",
    "        if B[j,j] == 0:\n",
    "            for k in range(j+1,n):\n",
    "                B[j] = B[k]+B[j]\n",
    "            if j != n-1:\n",
    "                for l in range(j):\n",
    "                    B[j]=A[j]-B[1,l]*B[l]\n",
    "        if B[j,j] == 0:\n",
    "            return True\n",
    "        B[j] = B[j]/B[j,j]\n",
    "    print(B)\n",
    "    return False"
   ]
  },
  {
   "cell_type": "code",
   "execution_count": 15,
   "metadata": {},
   "outputs": [
    {
     "name": "stdout",
     "output_type": "stream",
     "text": [
      "[[1. 2. 3. 4.]\n",
      " [0. 1. 0. 2.]\n",
      " [0. 0. 1. 1.]\n",
      " [0. 0. 0. 1.]]\n"
     ]
    },
    {
     "data": {
      "text/plain": [
       "False"
      ]
     },
     "execution_count": 15,
     "metadata": {},
     "output_type": "execute_result"
    }
   ],
   "source": [
    "gisSingular(A)"
   ]
  },
  {
   "cell_type": "code",
   "execution_count": 18,
   "metadata": {},
   "outputs": [
    {
     "data": {
      "text/plain": [
       "array([[1, 2, 3],\n",
       "       [2, 1, 4],\n",
       "       [2, 4, 1]])"
      ]
     },
     "execution_count": 18,
     "metadata": {},
     "output_type": "execute_result"
    }
   ],
   "source": [
    "B=np.array([[1,2,3],[2,1,4],[2,4,1]])\n",
    "B"
   ]
  },
  {
   "cell_type": "code",
   "execution_count": 19,
   "metadata": {},
   "outputs": [
    {
     "name": "stdout",
     "output_type": "stream",
     "text": [
      "[[ 1.          2.          3.        ]\n",
      " [-0.          1.          0.66666667]\n",
      " [-0.         -0.          1.        ]]\n"
     ]
    },
    {
     "data": {
      "text/plain": [
       "False"
      ]
     },
     "execution_count": 19,
     "metadata": {},
     "output_type": "execute_result"
    }
   ],
   "source": [
    "gisSingular(B)"
   ]
  },
  {
   "cell_type": "code",
   "execution_count": null,
   "metadata": {},
   "outputs": [],
   "source": []
  }
 ],
 "metadata": {
  "kernelspec": {
   "display_name": "Python 3",
   "language": "python",
   "name": "python3"
  },
  "language_info": {
   "codemirror_mode": {
    "name": "ipython",
    "version": 3
   },
   "file_extension": ".py",
   "mimetype": "text/x-python",
   "name": "python",
   "nbconvert_exporter": "python",
   "pygments_lexer": "ipython3",
   "version": "3.7.7"
  }
 },
 "nbformat": 4,
 "nbformat_minor": 4
}
